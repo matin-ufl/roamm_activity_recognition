{
 "cells": [
  {
   "cell_type": "markdown",
   "metadata": {},
   "source": [
    "# Activity Recognition (ROAMM)\n",
    "Data collected from Samsung Smartwatch Gear S3 are summarized into 7 features for non-overlapping 15-second epochs of acclerometer data.\n",
    "\n",
    "1. `MVM`: mean vector magnitude.\n",
    "2. `SDVM`: standard deviation of vector magnitude.\n",
    "3. `MANGLE`: mean angle between the vector magnitude and the horizontal line.\n",
    "4. `SDANGLE`: standard deviation of angle between the vector magnitude and the horizontal line.\n",
    "5. `P625`: fraction of power covered by frequencies in [0.6, 2.5] Hz (human movement frequency).\n",
    "6. `DF`: dominant frequency.\n",
    "7. `FPDF`: fraction of power covered by the dominant frequency.\n",
    "\n",
    "ROAMM application prompts the user only four times a day for activity types. Therefore, the majority of data points are unlabeled and their activity types are unknown. In this notebook, we use smartwatch data that were collected from other participants who performed the following activities in the lab.\n",
    "\n",
    "* Ironing (<font color='blue'>**Standing**</font>)\n",
    "* Mopping (<font color='green'>**Walking**</font>)\n",
    "* Trash Removal (<font color='green'>**Walking**</font>)\n",
    "* Washing Windows (<font color='blue'>**Standing**</font>)\n",
    "* Computer Work (<font color='red'>**Sitting**</font>)\n",
    "* Replacing Bed Sheet (<font color='green'>**Walking**</font>)\n",
    "* Heavy Weight Lifting (<font color='green'>**Walking**</font>)\n",
    "* Home Maintenance (<font color='blue'>**Standing**</font>)\n",
    "* Laundry (<font color='blue'>**Standing**</font>)\n",
    "* Yoga (<font color='blue'>**Standing**</font>)\n",
    "* Chest Press (<font color='red'>**Sitting**</font>)\n",
    "* Leg Extension (<font color='red'>**Sitting**</font>)\n",
    "* Leg Curl (<font color='red'>**Sitting**</font>)\n",
    "\n",
    "We are interested in identifying activity types for each receiving 15-second epoch as <font color='red'>**Sitting**</font>, <font color='blue'>**Standing**</font>, or <font color='green'>**Walking**</font>. Therefore, activity labels that were used for training a classifier were chosen as shown above - based on similarity of the performed chore to the activities of interest.\n",
    "\n",
    "In our training data set, data points belonging to each activity type are distributed as follows.\n",
    "<table style=\"width:50%\">\n",
    "  <tr>\n",
    "    <th>Activity Label</th>\n",
    "    <th>Number of 15-second Epochs</th>\n",
    "  </tr>\n",
    "  <tr>\n",
    "      <td><font color='red'>**Sitting**</font></td>\n",
    "      <td>198</td>\n",
    "  </tr>\n",
    "  <tr>\n",
    "      <td><font color='blue'>**Standing**</font></td>\n",
    "      <td>639</td>\n",
    "  </tr>\n",
    "  <tr>\n",
    "      <td><font color='green'>**Walking**</font></td>\n",
    "      <td>757</td>\n",
    "  </tr>\n",
    "</table>"
   ]
  },
  {
   "cell_type": "markdown",
   "metadata": {},
   "source": [
    "And here is how the training data points are scattered.\n",
    "![Training Data](images/training_data.png)"
   ]
  },
  {
   "cell_type": "markdown",
   "metadata": {},
   "source": [
    "One issue becomes quite apparent: although <font color='red'>**Sitting**</font> activities are quite distinct from the rest, <font color='blue'>**Standing**</font> and <font color='green'>**Walking**</font> activities are not very well distinguishable in our training data. This is partially because of the features that are being used and partially due to lack of pure walks."
   ]
  },
  {
   "cell_type": "markdown",
   "metadata": {},
   "source": [
    "This is the importance of features which resulted in the activity recognition shown above.\n",
    "\n",
    "![Feature importance](images/feature_importance.png)"
   ]
  },
  {
   "cell_type": "markdown",
   "metadata": {},
   "source": [
    "Since the dataset is not yet publicly available, the training set is not included in this repository. However, the trained classifier is located next to this notebook (`trained_classifier.pkl`).\n",
    "\n",
    "Here is an example on how to use this classifier to obtain activity labels.\n",
    "\n",
    "---\n",
    "\\[1\\](_the best performance was obtained for `number-of-trees` = 100_)"
   ]
  },
  {
   "cell_type": "markdown",
   "metadata": {},
   "source": [
    "### Example\n",
    "In this example, we use the trained classifier to obtain the following columns:\n",
    "1. `predicted_activity`: Activity label predicted by the trained model. (i.e., activity with the maximum probability)\n",
    "2. `sitting_prob`: Probability of data point belonging to <font color='red'>**Sitting**</font> class.\n",
    "3. `standing_prob`: Probability of data point belonging to <font color='blue'>**Standing**</font> class.\n",
    "4. `walking_prob`: Probability of data point belonging to <font color='green'>**Walking**</font> class."
   ]
  },
  {
   "cell_type": "code",
   "execution_count": null,
   "metadata": {},
   "outputs": [],
   "source": [
    "import pandas as pd\n",
    "from sklearn.externals import joblib\n",
    "from sklearn.ensemble import RandomForestClassifier\n",
    "\n",
    "# Loading the trained classifier\n",
    "clf = joblib.load(r\"trained_classifier.pkl\")\n",
    "\n",
    "# File which has unlabeled data.\n",
    "filename = r\"~/Desktop/test.csv\"\n",
    "\n",
    "# File which should contain the data with predicted labels.\n",
    "output_filename = r\"~/Desktop/test_labeled.csv\"\n",
    "\n",
    "# This file should have the following columns\n",
    "# The `activity` feature is the ones that user provides. Not used in the script but kept anyway.\n",
    "selected_features = [\"mvm\", \"sdvm\", \"mangle\", \"sdangle\", \"p625\", \"df\", \"fpdf\", \"activity\"]\n",
    "\n",
    "# loading data into memory\n",
    "unlabeled_df = pd.read_csv(filename)\n",
    "test_df = unlabeled_df.loc[:, selected_features]\n",
    "\n",
    "# Handling None and missing values\n",
    "for feature in selected_features1[:-1]:\n",
    "    test_df.loc[:, feature] = [np.float64(test_df.loc[i, feature]) if test_df.loc[i, feature] != 'None' else None for i in range(test_df.shape[0])]\n",
    "\n",
    "# test_Y (if provided) is the activity label that user provides. Not used.\n",
    "test_X, test_Y = test_df.loc[:, selected_features[:-1]], test_df.loc[:, selected_features[-1]]\n",
    "\n",
    "# For performance purposes, it is better to feed the classifier all the unlabeled data at once.\n",
    "# We later remove the predicted labels for those with missing values.\n",
    "\n",
    "# cells with missing values\n",
    "nan_idx = test_X.isnull().values\n",
    "\n",
    "# replace NaNs with 0; we can use any arbitrary number. We ignore samples with missing values later.\n",
    "test_X[nan_idx] = 0\n",
    "\n",
    "# Predicting the activity label for the unlabeled data points.\n",
    "predicted_activity_labels = clf.predict(test_X)\n",
    "\n",
    "# Predicting the probabilities that data points belong to which activity type.\n",
    "predicted_probabilities = clf.predict_proba(test_X)\n",
    "\n",
    "# Forming a neat data frame from the outcome\n",
    "predicted_df = pd.DataFrame(data={'Activity_Label':predicted_activity_labels,\n",
    "                                  'Sitting_Prob': [None] * test_df.shape[0],\n",
    "                                  'Standing_Prob': [None] * test_df.shape[0],\n",
    "                                  'Walking_Prob': [None] * test_df.shape[0]})\n",
    "predicted_df.loc[:, [\"Sitting_Prob\", \"Standing_Prob\", \"Walking_Prob\"]] = predicted_probabilities\n",
    "\n",
    "# Now we remove the predictions for data points that had missing values.\n",
    "for i in range(len(nan_idx)):\n",
    "    if sum(nan_idx[i]) > 0: # there was a null value here\n",
    "        predicted_df.loc[i, [\"Activity_Label\", \"Sitting_Prob\", \"Standing_Prob\", \"Walking_Prob\"]] = [None]*4\n",
    "        \n",
    "        \n",
    "# Stiching back the outcome to the original data - so we can save data points with the predicted labels.\n",
    "unlabeled_df.loc[:, \"predicted_activity\"] = [None]*predicted_df.shape[0]\n",
    "unlabeled_df.loc[:, \"sitting_prob\"] = [None]*predicted_df.shape[0]\n",
    "unlabeled_df.loc[:, \"standing_prob\"] = [None]*predicted_df.shape[0]\n",
    "unlabeled_df.loc[:, \"walking_prob\"] = [None]*predicted_df.shape[0]\n",
    "unlabeled_df.loc[:, [\"predicted_activity\", \"sitting_prob\", \"standing_prob\", \"walking_prob\"]] = predicted_df.loc[:, [\"Activity_Label\", \"Sitting_Prob\", \"Standing_Prob\", \"Walking_Prob\"]].values\n",
    "\n",
    "# Saving to file\n",
    "unlabeled_df.to_csv(output_filename, index=False)"
   ]
  }
 ],
 "metadata": {
  "kernelspec": {
   "display_name": "Python 3",
   "language": "python",
   "name": "python3"
  },
  "language_info": {
   "codemirror_mode": {
    "name": "ipython",
    "version": 3
   },
   "file_extension": ".py",
   "mimetype": "text/x-python",
   "name": "python",
   "nbconvert_exporter": "python",
   "pygments_lexer": "ipython3",
   "version": "3.6.5"
  }
 },
 "nbformat": 4,
 "nbformat_minor": 2
}
